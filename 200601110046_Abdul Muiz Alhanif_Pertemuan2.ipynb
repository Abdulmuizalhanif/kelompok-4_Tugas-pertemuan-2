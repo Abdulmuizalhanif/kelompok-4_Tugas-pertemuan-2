{
 "cells": [
  {
   "cell_type": "markdown",
   "id": "116b9d90",
   "metadata": {},
   "source": [
    "# Algorithm 2.8"
   ]
  },
  {
   "cell_type": "code",
   "execution_count": 1,
   "id": "c4b2c70f",
   "metadata": {},
   "outputs": [],
   "source": [
    "s1='PyQt'"
   ]
  },
  {
   "cell_type": "code",
   "execution_count": 2,
   "id": "a110e1e5",
   "metadata": {},
   "outputs": [
    {
     "data": {
      "text/plain": [
       "'PyQt'"
      ]
     },
     "execution_count": 2,
     "metadata": {},
     "output_type": "execute_result"
    }
   ],
   "source": [
    "s1"
   ]
  },
  {
   "cell_type": "code",
   "execution_count": 3,
   "id": "5c70a161",
   "metadata": {},
   "outputs": [],
   "source": [
    "s2=\"Python\""
   ]
  },
  {
   "cell_type": "code",
   "execution_count": 4,
   "id": "efe60d18",
   "metadata": {},
   "outputs": [
    {
     "data": {
      "text/plain": [
       "'Python'"
      ]
     },
     "execution_count": 4,
     "metadata": {},
     "output_type": "execute_result"
    }
   ],
   "source": [
    "s2"
   ]
  },
  {
   "cell_type": "code",
   "execution_count": 7,
   "id": "cf55377b",
   "metadata": {},
   "outputs": [],
   "source": [
    "s3=''' Pemrograman GUI dengan Python dan PyQt '''"
   ]
  },
  {
   "cell_type": "code",
   "execution_count": 8,
   "id": "57a2242b",
   "metadata": {},
   "outputs": [
    {
     "data": {
      "text/plain": [
       "' Pemrograman GUI dengan Python dan PyQt '"
      ]
     },
     "execution_count": 8,
     "metadata": {},
     "output_type": "execute_result"
    }
   ],
   "source": [
    "s3"
   ]
  },
  {
   "cell_type": "code",
   "execution_count": 9,
   "id": "fb4a3a1a",
   "metadata": {},
   "outputs": [],
   "source": [
    "s4=\"\"\" Pemrograman GUI dengan Python dan PyQt \"\"\""
   ]
  },
  {
   "cell_type": "code",
   "execution_count": 10,
   "id": "8be975e7",
   "metadata": {},
   "outputs": [
    {
     "data": {
      "text/plain": [
       "' Pemrograman GUI dengan Python dan PyQt '"
      ]
     },
     "execution_count": 10,
     "metadata": {},
     "output_type": "execute_result"
    }
   ],
   "source": [
    "s4"
   ]
  },
  {
   "cell_type": "code",
   "execution_count": 28,
   "id": "09c98a89",
   "metadata": {},
   "outputs": [
    {
     "data": {
      "text/plain": [
       "'python'"
      ]
     },
     "execution_count": 28,
     "metadata": {},
     "output_type": "execute_result"
    }
   ],
   "source": [
    "b='python'\n",
    "b"
   ]
  },
  {
   "cell_type": "code",
   "execution_count": 29,
   "id": "644c81b1",
   "metadata": {},
   "outputs": [
    {
     "data": {
      "text/plain": [
       "'Python'"
      ]
     },
     "execution_count": 29,
     "metadata": {},
     "output_type": "execute_result"
    }
   ],
   "source": [
    "b=b.capitalize()\n",
    "b"
   ]
  },
  {
   "cell_type": "code",
   "execution_count": 30,
   "id": "e564bcc6",
   "metadata": {},
   "outputs": [
    {
     "data": {
      "text/plain": [
       "'PYTHON'"
      ]
     },
     "execution_count": 30,
     "metadata": {},
     "output_type": "execute_result"
    }
   ],
   "source": [
    "b=b.upper()\n",
    "b"
   ]
  },
  {
   "cell_type": "code",
   "execution_count": 31,
   "id": "8f9207c1",
   "metadata": {},
   "outputs": [
    {
     "data": {
      "text/plain": [
       "'python'"
      ]
     },
     "execution_count": 31,
     "metadata": {},
     "output_type": "execute_result"
    }
   ],
   "source": [
    "b=b.lower()\n",
    "b"
   ]
  },
  {
   "cell_type": "code",
   "execution_count": 32,
   "id": "22bbac9c",
   "metadata": {},
   "outputs": [
    {
     "data": {
      "text/plain": [
       "False"
      ]
     },
     "execution_count": 32,
     "metadata": {},
     "output_type": "execute_result"
    }
   ],
   "source": [
    "b.isupper()"
   ]
  },
  {
   "cell_type": "code",
   "execution_count": 33,
   "id": "96d588c2",
   "metadata": {},
   "outputs": [
    {
     "data": {
      "text/plain": [
       "True"
      ]
     },
     "execution_count": 33,
     "metadata": {},
     "output_type": "execute_result"
    }
   ],
   "source": [
    "b.islower()"
   ]
  },
  {
   "cell_type": "code",
   "execution_count": 38,
   "id": "5bc52a94",
   "metadata": {},
   "outputs": [
    {
     "data": {
      "text/plain": [
       "'saya makan ayam'"
      ]
     },
     "execution_count": 38,
     "metadata": {},
     "output_type": "execute_result"
    }
   ],
   "source": [
    "s=' '.join(['saya','makan','ayam'])\n",
    "s"
   ]
  },
  {
   "cell_type": "code",
   "execution_count": 39,
   "id": "da037885",
   "metadata": {},
   "outputs": [],
   "source": [
    "nim='16610021'"
   ]
  },
  {
   "cell_type": "code",
   "execution_count": 40,
   "id": "b1dd65ba",
   "metadata": {},
   "outputs": [
    {
     "data": {
      "text/plain": [
       "True"
      ]
     },
     "execution_count": 40,
     "metadata": {},
     "output_type": "execute_result"
    }
   ],
   "source": [
    "nim.isnumeric()"
   ]
  },
  {
   "cell_type": "code",
   "execution_count": 41,
   "id": "f719d875",
   "metadata": {},
   "outputs": [],
   "source": [
    "nim='16610o21'"
   ]
  },
  {
   "cell_type": "code",
   "execution_count": 42,
   "id": "3c7e310d",
   "metadata": {},
   "outputs": [
    {
     "data": {
      "text/plain": [
       "False"
      ]
     },
     "execution_count": 42,
     "metadata": {},
     "output_type": "execute_result"
    }
   ],
   "source": [
    "nim.isnumeric()"
   ]
  },
  {
   "cell_type": "code",
   "execution_count": null,
   "id": "30d517d9",
   "metadata": {},
   "outputs": [],
   "source": []
  }
 ],
 "metadata": {
  "kernelspec": {
   "display_name": "Python 3 (ipykernel)",
   "language": "python",
   "name": "python3"
  },
  "language_info": {
   "codemirror_mode": {
    "name": "ipython",
    "version": 3
   },
   "file_extension": ".py",
   "mimetype": "text/x-python",
   "name": "python",
   "nbconvert_exporter": "python",
   "pygments_lexer": "ipython3",
   "version": "3.9.7"
  }
 },
 "nbformat": 4,
 "nbformat_minor": 5
}
