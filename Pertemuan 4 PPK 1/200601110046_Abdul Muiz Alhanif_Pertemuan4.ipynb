{
 "cells": [
  {
   "cell_type": "code",
   "execution_count": 1,
   "id": "695cfd81",
   "metadata": {},
   "outputs": [
    {
     "name": "stdout",
     "output_type": "stream",
     "text": [
      "1\n",
      "2\n",
      "3\n",
      "4\n",
      "5\n",
      "6\n",
      "7\n",
      "8\n",
      "9\n",
      "10\n"
     ]
    }
   ],
   "source": [
    "#contoh perulangan dengan while untuk menceteka angka dari [0-4]\n",
    "count=1 #inisialisasi variabel itelator\n",
    "while count < 11: #kondisi perulangan\n",
    "    print(count)\n",
    "    count += 1 #update iterator, untuk mecncegah infinite loop"
   ]
  },
  {
   "cell_type": "code",
   "execution_count": 15,
   "id": "3368727a",
   "metadata": {},
   "outputs": [
    {
     "name": "stdout",
     "output_type": "stream",
     "text": [
      "masukkan nilai n: 5\n",
      "120\n"
     ]
    }
   ],
   "source": [
    "#program menghitung nilai faktorial n\n",
    "n = int(input(\"masukkan nilai n: \"))\n",
    "faktorial = 1 #variabel menyimpan hasil faktorial\n",
    "i = 1 #inisialiasiasi variabel itelator\n",
    "while i<=n:\n",
    "    faktorial *= i\n",
    "    i += 1 #update iterator\n",
    "print(faktorial)"
   ]
  },
  {
   "cell_type": "code",
   "execution_count": 3,
   "id": "30f62c93",
   "metadata": {},
   "outputs": [
    {
     "name": "stdout",
     "output_type": "stream",
     "text": [
      "angka = 0\n",
      "masukkan angka: 40\n",
      "angka = 40\n",
      "masukkan angka: 10\n",
      "angka = 50\n",
      "masukkan angka: 1\n",
      "Angka berhenti pada jumlah: 51\n"
     ]
    }
   ],
   "source": [
    "#perulangan dengan break\n",
    "b = 0\n",
    "while True:\n",
    "    print(\"angka = \"+str(b))\n",
    "    angka = int(input(\"masukkan angka: \"))\n",
    "    b += angka\n",
    "    if b>50:\n",
    "        break\n",
    "print(\"Angka berhenti pada jumlah: \"+str(b))"
   ]
  },
  {
   "cell_type": "code",
   "execution_count": 4,
   "id": "52cbae23",
   "metadata": {},
   "outputs": [
    {
     "name": "stdout",
     "output_type": "stream",
     "text": [
      "2\n",
      "3\n",
      "5\n",
      "7\n",
      "m\n",
      "a\n",
      "t\n",
      "e\n",
      "m\n",
      "a\n",
      "t\n",
      "i\n",
      "k\n",
      "a\n"
     ]
    }
   ],
   "source": [
    "#perulangan dengan for\n",
    "primes = [2,3,5,7]\n",
    "for prime in primes:\n",
    "    print(prime)\n",
    "    \n",
    "s = 'matematika'\n",
    "for i in s:\n",
    "    print(i)"
   ]
  },
  {
   "cell_type": "code",
   "execution_count": 5,
   "id": "ca0e28ba",
   "metadata": {},
   "outputs": [
    {
     "name": "stdout",
     "output_type": "stream",
     "text": [
      "1\n",
      "3\n",
      "5\n",
      "7\n",
      "9\n"
     ]
    }
   ],
   "source": [
    "for i in range(1,10,2):\n",
    "    print(i)"
   ]
  },
  {
   "cell_type": "code",
   "execution_count": 6,
   "id": "e8daf93c",
   "metadata": {},
   "outputs": [
    {
     "name": "stdout",
     "output_type": "stream",
     "text": [
      "masukkan nilai n: 5\n",
      "120\n"
     ]
    }
   ],
   "source": [
    "#program untuk menghitung nilai faktorial n\n",
    "n = int(input(\"masukkan nilai n: \"))\n",
    "faktorial = 1\n",
    "for i in range(1,n+1):\n",
    "    faktorial *= i\n",
    "print(faktorial)"
   ]
  },
  {
   "cell_type": "code",
   "execution_count": 14,
   "id": "2b94a125",
   "metadata": {},
   "outputs": [
    {
     "name": "stdout",
     "output_type": "stream",
     "text": [
      "0\n",
      "1\n",
      "2\n",
      "3\n",
      "4\n",
      "5\n",
      "6\n",
      "7\n",
      "8\n",
      "9\n"
     ]
    }
   ],
   "source": [
    "for i in range(100):\n",
    "    if i==10:\n",
    "        break\n",
    "    print(i)"
   ]
  },
  {
   "cell_type": "code",
   "execution_count": 1,
   "id": "cbfaab41",
   "metadata": {},
   "outputs": [
    {
     "name": "stdout",
     "output_type": "stream",
     "text": [
      "masukkan nilai n: 1\n",
      "0\n"
     ]
    }
   ],
   "source": [
    "n = int(input(\"masukkan nilai n: \"))\n",
    "sum_even = 0\n",
    "for i in range(0,2*n,2):\n",
    "    sum_even += i\n",
    "print(sum_even)"
   ]
  },
  {
   "cell_type": "code",
   "execution_count": null,
   "id": "46351182",
   "metadata": {},
   "outputs": [],
   "source": []
  },
  {
   "cell_type": "code",
   "execution_count": null,
   "id": "4868ee43",
   "metadata": {},
   "outputs": [],
   "source": []
  }
 ],
 "metadata": {
  "kernelspec": {
   "display_name": "Python 3 (ipykernel)",
   "language": "python",
   "name": "python3"
  },
  "language_info": {
   "codemirror_mode": {
    "name": "ipython",
    "version": 3
   },
   "file_extension": ".py",
   "mimetype": "text/x-python",
   "name": "python",
   "nbconvert_exporter": "python",
   "pygments_lexer": "ipython3",
   "version": "3.9.7"
  }
 },
 "nbformat": 4,
 "nbformat_minor": 5
}
