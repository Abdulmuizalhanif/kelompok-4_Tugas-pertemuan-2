{
 "cells": [
  {
   "cell_type": "code",
   "execution_count": 4,
   "id": "9907f836",
   "metadata": {},
   "outputs": [
    {
     "name": "stdout",
     "output_type": "stream",
     "text": [
      "Masukkan nilai Anda: 80\n",
      "Anda lulus ujian! SELAMAT!\n"
     ]
    }
   ],
   "source": [
    "# Percobaan Conditional if\n",
    "nilai=input(\"Masukkan nilai Anda: \")\n",
    "if int(nilai)>=70:\n",
    "    print(\"Anda lulus ujian! SELAMAT!\")"
   ]
  },
  {
   "cell_type": "code",
   "execution_count": 5,
   "id": "30abff36",
   "metadata": {},
   "outputs": [
    {
     "name": "stdout",
     "output_type": "stream",
     "text": [
      "Masukkan nilai Anda: 50\n",
      "Anda belum lulus ujian!\n"
     ]
    }
   ],
   "source": [
    "# Percobaan Conditional if-else\n",
    "nilai=input(\"Masukkan nilai Anda: \")\n",
    "if int(nilai)>=70:\n",
    "    print(\"Anda lulus ujian! SELAMAT!\")\n",
    "else:\n",
    "    print(\"Anda belum lulus ujian!\")"
   ]
  },
  {
   "cell_type": "code",
   "execution_count": 17,
   "id": "fdf63026",
   "metadata": {},
   "outputs": [
    {
     "name": "stdout",
     "output_type": "stream",
     "text": [
      "Masukkan nilai Anda: 95\n",
      "Anda lulus ujian! SELAMAT!\n"
     ]
    }
   ],
   "source": [
    "# Percobaan Conditional if-elif-else\n",
    "nilai=input(\"Masukkan nilai Anda: \")\n",
    "if int(nilai)<0 or int(nilai)>100:\n",
    "    print(\"Nilai Anda TIDAK valid\")\n",
    "elif int(nilai)>=70:\n",
    "    print(\"Anda lulus ujian! SELAMAT!\")\n",
    "else:\n",
    "    print(\"Anda belum lulus ujian!\")"
   ]
  },
  {
   "cell_type": "code",
   "execution_count": 6,
   "id": "5c715d6c",
   "metadata": {},
   "outputs": [
    {
     "name": "stdout",
     "output_type": "stream",
     "text": [
      "1\n",
      "2\n",
      "3\n",
      "4\n",
      "5\n",
      "6\n",
      "7\n",
      "8\n",
      "9\n",
      "10\n"
     ]
    }
   ],
   "source": [
    "# Perulangan dengan while untuk mencetak angka dari [0-4]\n",
    "count=1\n",
    "while count<11:\n",
    "    print(count)\n",
    "    count+=1"
   ]
  },
  {
   "cell_type": "code",
   "execution_count": 7,
   "id": "ab369585",
   "metadata": {},
   "outputs": [
    {
     "name": "stdout",
     "output_type": "stream",
     "text": [
      "Masukkan nilai n: 5\n",
      "120\n"
     ]
    }
   ],
   "source": [
    "# Program untuk menghitung nilai faktorial n\n",
    "n=int(input(\"Masukkan nilai n: \"))\n",
    "faktorial=1\n",
    "i=1\n",
    "while i<=n:\n",
    "    faktorial*=i\n",
    "    i+=1\n",
    "print(faktorial)"
   ]
  },
  {
   "cell_type": "code",
   "execution_count": 8,
   "id": "43aca49a",
   "metadata": {},
   "outputs": [
    {
     "name": "stdout",
     "output_type": "stream",
     "text": [
      "Angka= 0\n",
      "Masukkan Angka: 40\n",
      "Angka= 40\n",
      "Masukkan Angka: 10\n",
      "Angka= 50\n",
      "Masukkan Angka: 1\n",
      "Angka berhenti pada jumlah: 51\n"
     ]
    }
   ],
   "source": [
    "# Perulangan dengan break\n",
    "b=0\n",
    "while True:\n",
    "    print(\"Angka= \"+str(b))\n",
    "    angka=int(input(\"Masukkan Angka: \"))\n",
    "    b+=angka\n",
    "    if b>50:\n",
    "        break\n",
    "print(\"Angka berhenti pada jumlah: \"+str(b))    "
   ]
  },
  {
   "cell_type": "code",
   "execution_count": 2,
   "id": "a719b9d4",
   "metadata": {},
   "outputs": [
    {
     "name": "stdout",
     "output_type": "stream",
     "text": [
      "2\n",
      "3\n",
      "5\n",
      "7\n",
      "m\n",
      "a\n",
      "t\n",
      "e\n",
      "m\n",
      "a\n",
      "t\n",
      "i\n",
      "k\n",
      "a\n"
     ]
    }
   ],
   "source": [
    "# Perulangan dengan for\n",
    "primes=[2,3,5,7]\n",
    "for prime in primes:\n",
    "    print(prime)\n",
    "s='matematika'\n",
    "for i in s:\n",
    "    print(i)"
   ]
  },
  {
   "cell_type": "code",
   "execution_count": 10,
   "id": "fc7cae17",
   "metadata": {},
   "outputs": [
    {
     "name": "stdout",
     "output_type": "stream",
     "text": [
      "1\n",
      "3\n",
      "5\n",
      "7\n",
      "9\n"
     ]
    }
   ],
   "source": [
    " for i in range(1,10,2):\n",
    "        print(i)"
   ]
  },
  {
   "cell_type": "code",
   "execution_count": 11,
   "id": "7a95de22",
   "metadata": {},
   "outputs": [
    {
     "name": "stdout",
     "output_type": "stream",
     "text": [
      "Masukkan nilai n: 5\n",
      "120\n"
     ]
    }
   ],
   "source": [
    "# Program untuk menghitung nilai faktorial n\n",
    "n=int(input(\"Masukkan nilai n: \"))\n",
    "faktorial=1\n",
    "for i in range(1,n+1):\n",
    "    faktorial*=i\n",
    "print(faktorial)"
   ]
  },
  {
   "cell_type": "code",
   "execution_count": 13,
   "id": "840ee30c",
   "metadata": {},
   "outputs": [
    {
     "name": "stdout",
     "output_type": "stream",
     "text": [
      "0\n",
      "1\n",
      "2\n",
      "3\n",
      "4\n",
      "5\n",
      "6\n",
      "7\n",
      "8\n",
      "9\n"
     ]
    }
   ],
   "source": [
    "for i in range(100):\n",
    "    if i==10:\n",
    "        break\n",
    "    print(i)"
   ]
  },
  {
   "cell_type": "code",
   "execution_count": 15,
   "id": "5b8b22da",
   "metadata": {},
   "outputs": [
    {
     "name": "stdout",
     "output_type": "stream",
     "text": [
      "Masukkan nilai n: 10\n",
      "90\n"
     ]
    }
   ],
   "source": [
    "n=int(input(\"Masukkan nilai n: \"))\n",
    "sum_even=0\n",
    "for i in range(0,2*n,2):\n",
    "    sum_even+=i\n",
    "print(sum_even)"
   ]
  }
 ],
 "metadata": {
  "kernelspec": {
   "display_name": "Python 3 (ipykernel)",
   "language": "python",
   "name": "python3"
  },
  "language_info": {
   "codemirror_mode": {
    "name": "ipython",
    "version": 3
   },
   "file_extension": ".py",
   "mimetype": "text/x-python",
   "name": "python",
   "nbconvert_exporter": "python",
   "pygments_lexer": "ipython3",
   "version": "3.10.2"
  }
 },
 "nbformat": 4,
 "nbformat_minor": 5
}
