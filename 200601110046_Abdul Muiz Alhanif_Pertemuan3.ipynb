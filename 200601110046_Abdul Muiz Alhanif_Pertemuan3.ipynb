{
 "cells": [
  {
   "cell_type": "markdown",
   "id": "b536f6d3",
   "metadata": {},
   "source": [
    "# Algorithm 3.1"
   ]
  },
  {
   "cell_type": "code",
   "execution_count": 5,
   "id": "0bdd5327",
   "metadata": {},
   "outputs": [],
   "source": [
    "list1=[100,200,300,400]"
   ]
  },
  {
   "cell_type": "code",
   "execution_count": 6,
   "id": "97079e7a",
   "metadata": {},
   "outputs": [],
   "source": [
    "list2=[1,'Pemrograman Komputer',12000.00]"
   ]
  },
  {
   "cell_type": "code",
   "execution_count": 7,
   "id": "bd4a0219",
   "metadata": {},
   "outputs": [],
   "source": [
    "list=[10,8,12,6,15]"
   ]
  },
  {
   "cell_type": "code",
   "execution_count": 8,
   "id": "330f57f5",
   "metadata": {},
   "outputs": [
    {
     "data": {
      "text/plain": [
       "[10, 8, 12, 6, 15]"
      ]
     },
     "execution_count": 8,
     "metadata": {},
     "output_type": "execute_result"
    }
   ],
   "source": [
    "list"
   ]
  },
  {
   "cell_type": "code",
   "execution_count": 9,
   "id": "cff8822d",
   "metadata": {},
   "outputs": [
    {
     "data": {
      "text/plain": [
       "5"
      ]
     },
     "execution_count": 9,
     "metadata": {},
     "output_type": "execute_result"
    }
   ],
   "source": [
    "len(list)#menghitung banyaknya elemen didalam list 5"
   ]
  },
  {
   "cell_type": "code",
   "execution_count": 10,
   "id": "3506c00b",
   "metadata": {},
   "outputs": [],
   "source": [
    "li=[10,8,12,6,15]"
   ]
  },
  {
   "cell_type": "code",
   "execution_count": 11,
   "id": "2bbbf9d7",
   "metadata": {},
   "outputs": [
    {
     "data": {
      "text/plain": [
       "[10, 8, 12, 6, 15]"
      ]
     },
     "execution_count": 11,
     "metadata": {},
     "output_type": "execute_result"
    }
   ],
   "source": [
    "li"
   ]
  },
  {
   "cell_type": "code",
   "execution_count": 12,
   "id": "5c7a1b7a",
   "metadata": {},
   "outputs": [
    {
     "data": {
      "text/plain": [
       "(10, 8, 12, 6, 15)"
      ]
     },
     "execution_count": 12,
     "metadata": {},
     "output_type": "execute_result"
    }
   ],
   "source": [
    "li[0],li[1],li[2],li[3],li[4]"
   ]
  },
  {
   "cell_type": "code",
   "execution_count": 13,
   "id": "a1c31e93",
   "metadata": {},
   "outputs": [
    {
     "data": {
      "text/plain": [
       "(10, 8, 12, 6, 15)"
      ]
     },
     "execution_count": 13,
     "metadata": {},
     "output_type": "execute_result"
    }
   ],
   "source": [
    "li[-5],li[-4],li[-3],li[-2],li[-1]"
   ]
  },
  {
   "cell_type": "code",
   "execution_count": 14,
   "id": "16fdc5f3",
   "metadata": {},
   "outputs": [],
   "source": [
    "li.append(20)#menambahkan elemen dalam list"
   ]
  },
  {
   "cell_type": "code",
   "execution_count": 15,
   "id": "4537808f",
   "metadata": {},
   "outputs": [],
   "source": [
    "li.append(25)"
   ]
  },
  {
   "cell_type": "code",
   "execution_count": 16,
   "id": "7536f964",
   "metadata": {
    "scrolled": true
   },
   "outputs": [
    {
     "data": {
      "text/plain": [
       "[10, 8, 12, 6, 15, 20, 25]"
      ]
     },
     "execution_count": 16,
     "metadata": {},
     "output_type": "execute_result"
    }
   ],
   "source": [
    "li"
   ]
  },
  {
   "cell_type": "code",
   "execution_count": 17,
   "id": "0fc0464d",
   "metadata": {},
   "outputs": [],
   "source": [
    "li.extend([100,200,300])#menambah list dalam sebuah list"
   ]
  },
  {
   "cell_type": "code",
   "execution_count": 18,
   "id": "49a9980d",
   "metadata": {},
   "outputs": [
    {
     "data": {
      "text/plain": [
       "[10, 8, 12, 6, 15, 20, 25, 100, 200, 300]"
      ]
     },
     "execution_count": 18,
     "metadata": {},
     "output_type": "execute_result"
    }
   ],
   "source": [
    "li"
   ]
  },
  {
   "cell_type": "code",
   "execution_count": 20,
   "id": "7d636d94",
   "metadata": {},
   "outputs": [],
   "source": [
    "li[0]=99"
   ]
  },
  {
   "cell_type": "code",
   "execution_count": 21,
   "id": "0c7bbde2",
   "metadata": {},
   "outputs": [],
   "source": [
    "li[1]=77"
   ]
  },
  {
   "cell_type": "code",
   "execution_count": 22,
   "id": "ab7dfa7e",
   "metadata": {},
   "outputs": [
    {
     "data": {
      "text/plain": [
       "[99, 77, 12, 6, 15, 20, 25, 100, 200, 300]"
      ]
     },
     "execution_count": 22,
     "metadata": {},
     "output_type": "execute_result"
    }
   ],
   "source": [
    "li"
   ]
  },
  {
   "cell_type": "code",
   "execution_count": 23,
   "id": "6c904115",
   "metadata": {},
   "outputs": [],
   "source": [
    "li.remove(99)#menghapus elemen di dalam list"
   ]
  },
  {
   "cell_type": "code",
   "execution_count": 24,
   "id": "8554c805",
   "metadata": {},
   "outputs": [],
   "source": [
    "li.remove(300)"
   ]
  },
  {
   "cell_type": "code",
   "execution_count": 25,
   "id": "b6b91b91",
   "metadata": {},
   "outputs": [],
   "source": [
    "li.remove(15)"
   ]
  },
  {
   "cell_type": "code",
   "execution_count": 26,
   "id": "4072df21",
   "metadata": {},
   "outputs": [
    {
     "data": {
      "text/plain": [
       "[77, 12, 6, 20, 25, 100, 200]"
      ]
     },
     "execution_count": 26,
     "metadata": {},
     "output_type": "execute_result"
    }
   ],
   "source": [
    "li"
   ]
  },
  {
   "cell_type": "code",
   "execution_count": 28,
   "id": "94207577",
   "metadata": {},
   "outputs": [],
   "source": [
    "li.clear()#menghapus semua elemen di dalam list"
   ]
  },
  {
   "cell_type": "code",
   "execution_count": 29,
   "id": "118d0c17",
   "metadata": {
    "scrolled": true
   },
   "outputs": [
    {
     "data": {
      "text/plain": [
       "[]"
      ]
     },
     "execution_count": 29,
     "metadata": {},
     "output_type": "execute_result"
    }
   ],
   "source": [
    "li"
   ]
  },
  {
   "cell_type": "code",
   "execution_count": null,
   "id": "0f65e497",
   "metadata": {},
   "outputs": [],
   "source": []
  },
  {
   "cell_type": "markdown",
   "id": "8ccff2d8",
   "metadata": {},
   "source": [
    "# Algorithm 3.2"
   ]
  },
  {
   "cell_type": "code",
   "execution_count": 30,
   "id": "99819cd9",
   "metadata": {},
   "outputs": [],
   "source": [
    "na={'A':4,'B':3,'C':2,'D':1,'F':0}"
   ]
  },
  {
   "cell_type": "code",
   "execution_count": 31,
   "id": "8ac6500e",
   "metadata": {},
   "outputs": [
    {
     "data": {
      "text/plain": [
       "{'A': 4, 'B': 3, 'C': 2, 'D': 1, 'F': 0}"
      ]
     },
     "execution_count": 31,
     "metadata": {},
     "output_type": "execute_result"
    }
   ],
   "source": [
    "na"
   ]
  },
  {
   "cell_type": "code",
   "execution_count": 33,
   "id": "9f59de41",
   "metadata": {},
   "outputs": [
    {
     "data": {
      "text/plain": [
       "dict_keys(['A', 'B', 'C', 'D', 'F'])"
      ]
     },
     "execution_count": 33,
     "metadata": {},
     "output_type": "execute_result"
    }
   ],
   "source": [
    "na.keys()#menampilkan kata kunci (key) dalam dictionary"
   ]
  },
  {
   "cell_type": "code",
   "execution_count": 35,
   "id": "41d9cfc4",
   "metadata": {},
   "outputs": [
    {
     "data": {
      "text/plain": [
       "dict_values([4, 3, 2, 1, 0])"
      ]
     },
     "execution_count": 35,
     "metadata": {},
     "output_type": "execute_result"
    }
   ],
   "source": [
    "na.values()#menampilkan kata value dalam dictionary"
   ]
  },
  {
   "cell_type": "code",
   "execution_count": 36,
   "id": "5341394f",
   "metadata": {},
   "outputs": [
    {
     "data": {
      "text/plain": [
       "4"
      ]
     },
     "execution_count": 36,
     "metadata": {},
     "output_type": "execute_result"
    }
   ],
   "source": [
    "na['A']"
   ]
  },
  {
   "cell_type": "code",
   "execution_count": 37,
   "id": "e0824ddc",
   "metadata": {},
   "outputs": [
    {
     "data": {
      "text/plain": [
       "3"
      ]
     },
     "execution_count": 37,
     "metadata": {},
     "output_type": "execute_result"
    }
   ],
   "source": [
    "na['B']"
   ]
  },
  {
   "cell_type": "code",
   "execution_count": 38,
   "id": "45a2bced",
   "metadata": {},
   "outputs": [
    {
     "data": {
      "text/plain": [
       "2"
      ]
     },
     "execution_count": 38,
     "metadata": {},
     "output_type": "execute_result"
    }
   ],
   "source": [
    "na['C']"
   ]
  },
  {
   "cell_type": "code",
   "execution_count": 39,
   "id": "8cf08585",
   "metadata": {},
   "outputs": [],
   "source": [
    "kamus={'mause':'tikus','cat':'kucing'}"
   ]
  },
  {
   "cell_type": "code",
   "execution_count": 40,
   "id": "b479de05",
   "metadata": {},
   "outputs": [
    {
     "data": {
      "text/plain": [
       "'kucing'"
      ]
     },
     "execution_count": 40,
     "metadata": {},
     "output_type": "execute_result"
    }
   ],
   "source": [
    "kamus['cat']"
   ]
  },
  {
   "cell_type": "code",
   "execution_count": 41,
   "id": "e33bdc94",
   "metadata": {},
   "outputs": [
    {
     "data": {
      "text/plain": [
       "dict_keys(['mause', 'cat'])"
      ]
     },
     "execution_count": 41,
     "metadata": {},
     "output_type": "execute_result"
    }
   ],
   "source": [
    "kamus.keys()"
   ]
  },
  {
   "cell_type": "code",
   "execution_count": 42,
   "id": "c5ed50b2",
   "metadata": {},
   "outputs": [
    {
     "data": {
      "text/plain": [
       "dict_values(['tikus', 'kucing'])"
      ]
     },
     "execution_count": 42,
     "metadata": {},
     "output_type": "execute_result"
    }
   ],
   "source": [
    "kamus.values()"
   ]
  },
  {
   "cell_type": "code",
   "execution_count": null,
   "id": "0f70a2e0",
   "metadata": {},
   "outputs": [],
   "source": []
  },
  {
   "cell_type": "markdown",
   "id": "832b59ad",
   "metadata": {},
   "source": [
    "# Algorithm 3.3"
   ]
  },
  {
   "cell_type": "code",
   "execution_count": 43,
   "id": "36cd86ac",
   "metadata": {},
   "outputs": [],
   "source": [
    "t=(10,20,30)"
   ]
  },
  {
   "cell_type": "code",
   "execution_count": 44,
   "id": "8809777e",
   "metadata": {},
   "outputs": [
    {
     "data": {
      "text/plain": [
       "10"
      ]
     },
     "execution_count": 44,
     "metadata": {},
     "output_type": "execute_result"
    }
   ],
   "source": [
    "t[0]"
   ]
  },
  {
   "cell_type": "code",
   "execution_count": 45,
   "id": "e5efea31",
   "metadata": {},
   "outputs": [
    {
     "data": {
      "text/plain": [
       "20"
      ]
     },
     "execution_count": 45,
     "metadata": {},
     "output_type": "execute_result"
    }
   ],
   "source": [
    "t[1]"
   ]
  },
  {
   "cell_type": "code",
   "execution_count": 46,
   "id": "1aca77b6",
   "metadata": {},
   "outputs": [
    {
     "data": {
      "text/plain": [
       "30"
      ]
     },
     "execution_count": 46,
     "metadata": {},
     "output_type": "execute_result"
    }
   ],
   "source": [
    "t[2]"
   ]
  },
  {
   "cell_type": "code",
   "execution_count": 47,
   "id": "3af6aa74",
   "metadata": {},
   "outputs": [
    {
     "data": {
      "text/plain": [
       "(10, 20, 30)"
      ]
     },
     "execution_count": 47,
     "metadata": {},
     "output_type": "execute_result"
    }
   ],
   "source": [
    "t[-3],t[-2],t[-1]"
   ]
  },
  {
   "cell_type": "code",
   "execution_count": 48,
   "id": "0c15fa86",
   "metadata": {},
   "outputs": [
    {
     "data": {
      "text/plain": [
       "3"
      ]
     },
     "execution_count": 48,
     "metadata": {},
     "output_type": "execute_result"
    }
   ],
   "source": [
    "len(t)"
   ]
  },
  {
   "cell_type": "code",
   "execution_count": null,
   "id": "5a6ab17b",
   "metadata": {},
   "outputs": [],
   "source": []
  },
  {
   "cell_type": "markdown",
   "id": "94b9d477",
   "metadata": {},
   "source": [
    "# Algorithm 3.4"
   ]
  },
  {
   "cell_type": "code",
   "execution_count": 49,
   "id": "2fae64a9",
   "metadata": {},
   "outputs": [],
   "source": [
    "s=set([10,10,20,30,30,30])"
   ]
  },
  {
   "cell_type": "code",
   "execution_count": 50,
   "id": "27eeaf38",
   "metadata": {},
   "outputs": [
    {
     "data": {
      "text/plain": [
       "{10, 20, 30}"
      ]
     },
     "execution_count": 50,
     "metadata": {},
     "output_type": "execute_result"
    }
   ],
   "source": [
    "s"
   ]
  },
  {
   "cell_type": "code",
   "execution_count": 51,
   "id": "87efcb4e",
   "metadata": {},
   "outputs": [
    {
     "data": {
      "text/plain": [
       "3"
      ]
     },
     "execution_count": 51,
     "metadata": {},
     "output_type": "execute_result"
    }
   ],
   "source": [
    "len(s)"
   ]
  },
  {
   "cell_type": "code",
   "execution_count": 52,
   "id": "b784da90",
   "metadata": {},
   "outputs": [],
   "source": [
    "s.add(60)"
   ]
  },
  {
   "cell_type": "code",
   "execution_count": 53,
   "id": "6732bd5d",
   "metadata": {},
   "outputs": [
    {
     "data": {
      "text/plain": [
       "{10, 20, 30, 60}"
      ]
     },
     "execution_count": 53,
     "metadata": {},
     "output_type": "execute_result"
    }
   ],
   "source": [
    "s"
   ]
  },
  {
   "cell_type": "code",
   "execution_count": 54,
   "id": "6db5dc75",
   "metadata": {},
   "outputs": [
    {
     "data": {
      "text/plain": [
       "4"
      ]
     },
     "execution_count": 54,
     "metadata": {},
     "output_type": "execute_result"
    }
   ],
   "source": [
    "len(s)"
   ]
  },
  {
   "cell_type": "code",
   "execution_count": null,
   "id": "e2c4268f",
   "metadata": {},
   "outputs": [],
   "source": []
  }
 ],
 "metadata": {
  "kernelspec": {
   "display_name": "Python 3 (ipykernel)",
   "language": "python",
   "name": "python3"
  },
  "language_info": {
   "codemirror_mode": {
    "name": "ipython",
    "version": 3
   },
   "file_extension": ".py",
   "mimetype": "text/x-python",
   "name": "python",
   "nbconvert_exporter": "python",
   "pygments_lexer": "ipython3",
   "version": "3.9.7"
  }
 },
 "nbformat": 4,
 "nbformat_minor": 5
}
