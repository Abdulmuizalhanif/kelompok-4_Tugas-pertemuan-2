{
 "cells": [
  {
   "cell_type": "markdown",
   "id": "6332fa2b",
   "metadata": {},
   "source": [
    "Pandas merupakan salah satu package yang sangat membantu kita dalam pengolahan data dengan bahasa python. Hal ini karena pada menyediakan fitur dataframe. Dengan dataframe, kita bisa menjadikan file terbaca menjadi sebuah tabel. File yang didukung seperti .txt, .csv, .tsv dan lainnya."
   ]
  },
  {
   "cell_type": "markdown",
   "id": "9cd60a7b",
   "metadata": {},
   "source": [
    "# Mengimport Pandas"
   ]
  },
  {
   "cell_type": "code",
   "execution_count": 1,
   "id": "687978de",
   "metadata": {},
   "outputs": [],
   "source": [
    "import pandas as pd"
   ]
  },
  {
   "cell_type": "markdown",
   "id": "b28c510a",
   "metadata": {},
   "source": [
    "# Import.txt"
   ]
  },
  {
   "cell_type": "code",
   "execution_count": 2,
   "id": "2f912362",
   "metadata": {},
   "outputs": [
    {
     "name": "stdout",
     "output_type": "stream",
     "text": [
      "   A\\tB\n",
      "0  1\\t2\n",
      "1  4\\t3\n",
      "2  4\\t2\n"
     ]
    }
   ],
   "source": [
    "data1=pd.read_csv(\"data.txt\")\n",
    "print(data1)"
   ]
  },
  {
   "cell_type": "code",
   "execution_count": 3,
   "id": "73620c63",
   "metadata": {},
   "outputs": [
    {
     "name": "stdout",
     "output_type": "stream",
     "text": [
      "   A  B\n",
      "0  1  2\n",
      "1  4  3\n",
      "2  4  2\n"
     ]
    }
   ],
   "source": [
    "data2=pd.read_csv(\"data.txt\", delimiter=\"\\t\")\n",
    "print(data2)"
   ]
  },
  {
   "cell_type": "markdown",
   "id": "c5432887",
   "metadata": {},
   "source": [
    "# Import.csv"
   ]
  },
  {
   "cell_type": "code",
   "execution_count": 4,
   "id": "cc37de75",
   "metadata": {},
   "outputs": [
    {
     "name": "stdout",
     "output_type": "stream",
     "text": [
      "   A  B\n",
      "0  1  2\n",
      "1  4  3\n",
      "2  4  2\n"
     ]
    }
   ],
   "source": [
    "data3=pd.read_csv(\"data.csv\")\n",
    "print(data3)"
   ]
  },
  {
   "cell_type": "markdown",
   "id": "e7d65c87",
   "metadata": {},
   "source": [
    "# Import .xlsx"
   ]
  },
  {
   "cell_type": "code",
   "execution_count": 5,
   "id": "fa8acbef",
   "metadata": {},
   "outputs": [
    {
     "name": "stdout",
     "output_type": "stream",
     "text": [
      "   A  B\n",
      "0  1  2\n",
      "1  4  3\n",
      "2  4  2\n"
     ]
    }
   ],
   "source": [
    "data5=pd.read_excel('data.xlsx')\n",
    "print(data5)"
   ]
  },
  {
   "cell_type": "markdown",
   "id": "20bb2d92",
   "metadata": {},
   "source": [
    "# Import .xls"
   ]
  },
  {
   "cell_type": "code",
   "execution_count": 6,
   "id": "9b0bb089",
   "metadata": {},
   "outputs": [
    {
     "name": "stdout",
     "output_type": "stream",
     "text": [
      "   A  B\n",
      "0  1  2\n",
      "1  4  3\n",
      "2  4  2\n"
     ]
    }
   ],
   "source": [
    "data6=pd.read_excel('data.xls')\n",
    "print(data6)"
   ]
  },
  {
   "cell_type": "markdown",
   "id": "07ee0dd0",
   "metadata": {},
   "source": [
    "# Melihat Tabel"
   ]
  },
  {
   "cell_type": "code",
   "execution_count": 7,
   "id": "c637aefa",
   "metadata": {},
   "outputs": [
    {
     "data": {
      "text/html": [
       "<div>\n",
       "<style scoped>\n",
       "    .dataframe tbody tr th:only-of-type {\n",
       "        vertical-align: middle;\n",
       "    }\n",
       "\n",
       "    .dataframe tbody tr th {\n",
       "        vertical-align: top;\n",
       "    }\n",
       "\n",
       "    .dataframe thead th {\n",
       "        text-align: right;\n",
       "    }\n",
       "</style>\n",
       "<table border=\"1\" class=\"dataframe\">\n",
       "  <thead>\n",
       "    <tr style=\"text-align: right;\">\n",
       "      <th></th>\n",
       "      <th>A</th>\n",
       "      <th>B</th>\n",
       "    </tr>\n",
       "  </thead>\n",
       "  <tbody>\n",
       "    <tr>\n",
       "      <th>0</th>\n",
       "      <td>1</td>\n",
       "      <td>2</td>\n",
       "    </tr>\n",
       "    <tr>\n",
       "      <th>1</th>\n",
       "      <td>4</td>\n",
       "      <td>3</td>\n",
       "    </tr>\n",
       "    <tr>\n",
       "      <th>2</th>\n",
       "      <td>4</td>\n",
       "      <td>2</td>\n",
       "    </tr>\n",
       "  </tbody>\n",
       "</table>\n",
       "</div>"
      ],
      "text/plain": [
       "   A  B\n",
       "0  1  2\n",
       "1  4  3\n",
       "2  4  2"
      ]
     },
     "execution_count": 7,
     "metadata": {},
     "output_type": "execute_result"
    }
   ],
   "source": [
    "#semua\n",
    "data2"
   ]
  },
  {
   "cell_type": "code",
   "execution_count": 8,
   "id": "ad104079",
   "metadata": {},
   "outputs": [
    {
     "data": {
      "text/html": [
       "<div>\n",
       "<style scoped>\n",
       "    .dataframe tbody tr th:only-of-type {\n",
       "        vertical-align: middle;\n",
       "    }\n",
       "\n",
       "    .dataframe tbody tr th {\n",
       "        vertical-align: top;\n",
       "    }\n",
       "\n",
       "    .dataframe thead th {\n",
       "        text-align: right;\n",
       "    }\n",
       "</style>\n",
       "<table border=\"1\" class=\"dataframe\">\n",
       "  <thead>\n",
       "    <tr style=\"text-align: right;\">\n",
       "      <th></th>\n",
       "      <th>A</th>\n",
       "      <th>B</th>\n",
       "    </tr>\n",
       "  </thead>\n",
       "  <tbody>\n",
       "    <tr>\n",
       "      <th>0</th>\n",
       "      <td>1</td>\n",
       "      <td>2</td>\n",
       "    </tr>\n",
       "    <tr>\n",
       "      <th>1</th>\n",
       "      <td>4</td>\n",
       "      <td>3</td>\n",
       "    </tr>\n",
       "    <tr>\n",
       "      <th>2</th>\n",
       "      <td>4</td>\n",
       "      <td>2</td>\n",
       "    </tr>\n",
       "  </tbody>\n",
       "</table>\n",
       "</div>"
      ],
      "text/plain": [
       "   A  B\n",
       "0  1  2\n",
       "1  4  3\n",
       "2  4  2"
      ]
     },
     "execution_count": 8,
     "metadata": {},
     "output_type": "execute_result"
    }
   ],
   "source": [
    "#sebagian yang diatas (karena datanya sedikit maka yang tampil semua, silahkan coba dengan data yang lebih banyak lagi sendiri)\n",
    "data2.head()"
   ]
  },
  {
   "cell_type": "markdown",
   "id": "1ea4952e",
   "metadata": {},
   "source": [
    "# Membuat Dataframe sendiri"
   ]
  },
  {
   "cell_type": "code",
   "execution_count": 9,
   "id": "85c76681",
   "metadata": {},
   "outputs": [
    {
     "name": "stdout",
     "output_type": "stream",
     "text": [
      "Empty DataFrame\n",
      "Columns: []\n",
      "Index: []\n"
     ]
    }
   ],
   "source": [
    "df = pd.DataFrame()\n",
    "print(df)"
   ]
  },
  {
   "cell_type": "code",
   "execution_count": 10,
   "id": "fce71def",
   "metadata": {},
   "outputs": [
    {
     "name": "stdout",
     "output_type": "stream",
     "text": [
      "    0\n",
      "0   2\n",
      "1   4\n",
      "2   6\n",
      "3   8\n",
      "4  10\n"
     ]
    }
   ],
   "source": [
    "data = [2,4,6,8,10]\n",
    "df1 = pd.DataFrame(data)\n",
    "print(df1)"
   ]
  },
  {
   "cell_type": "code",
   "execution_count": 11,
   "id": "9d95799d",
   "metadata": {},
   "outputs": [
    {
     "name": "stdout",
     "output_type": "stream",
     "text": [
      "                Nama  Usia\n",
      "0       Fajar Akabar    20\n",
      "1       Syahrul Aziz    19\n",
      "2  Faris Majdi Sidiq    20\n"
     ]
    }
   ],
   "source": [
    "data = [['Fajar Akabar', 20],['Syahrul Aziz', 19],['Faris Majdi Sidiq', 20]]\n",
    "df2 = pd.DataFrame(data,columns=['Nama','Usia'])\n",
    "print(df2)\n"
   ]
  },
  {
   "cell_type": "code",
   "execution_count": null,
   "id": "fec0c2e0",
   "metadata": {},
   "outputs": [],
   "source": []
  }
 ],
 "metadata": {
  "kernelspec": {
   "display_name": "Python 3 (ipykernel)",
   "language": "python",
   "name": "python3"
  },
  "language_info": {
   "codemirror_mode": {
    "name": "ipython",
    "version": 3
   },
   "file_extension": ".py",
   "mimetype": "text/x-python",
   "name": "python",
   "nbconvert_exporter": "python",
   "pygments_lexer": "ipython3",
   "version": "3.9.7"
  }
 },
 "nbformat": 4,
 "nbformat_minor": 5
}
